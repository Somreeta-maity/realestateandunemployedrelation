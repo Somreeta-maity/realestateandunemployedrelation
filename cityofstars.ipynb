{
 "cells": [
  {
   "cell_type": "code",
   "execution_count": 20,
   "id": "5da48991",
   "metadata": {},
   "outputs": [],
   "source": [
    "import numpy as np # linear algebra\n",
    "import pandas as pd # data processing, CSV file I/O (e.g. pd.read_csv)\n",
    "import plotly.express as px\n",
    "from  pandas import json_normalize"
   ]
  },
  {
   "cell_type": "code",
   "execution_count": 21,
   "id": "997ea837",
   "metadata": {},
   "outputs": [],
   "source": [
    "df = pd.read_csv('C:/Users/maity/OneDrive/Desktop/cityofstars/chicago.csv')"
   ]
  },
  {
   "cell_type": "code",
   "execution_count": 22,
   "id": "e70ace19",
   "metadata": {},
   "outputs": [
    {
     "data": {
      "text/html": [
       "<div>\n",
       "<style scoped>\n",
       "    .dataframe tbody tr th:only-of-type {\n",
       "        vertical-align: middle;\n",
       "    }\n",
       "\n",
       "    .dataframe tbody tr th {\n",
       "        vertical-align: top;\n",
       "    }\n",
       "\n",
       "    .dataframe thead th {\n",
       "        text-align: right;\n",
       "    }\n",
       "</style>\n",
       "<table border=\"1\" class=\"dataframe\">\n",
       "  <thead>\n",
       "    <tr style=\"text-align: right;\">\n",
       "      <th></th>\n",
       "      <th>Community Area Number</th>\n",
       "      <th>COMMUNITY AREA NAME</th>\n",
       "      <th>HOUSING</th>\n",
       "      <th>PERCENT HOUSEHOLDS BELOW POVERTY</th>\n",
       "      <th>UNEMPLOYED</th>\n",
       "      <th>PERCENT AGED 25+ WITHOUT HIGH SCHOOL DIPLOMA</th>\n",
       "      <th>PERCENT AGED UNDER 18 OR OVER 64</th>\n",
       "      <th>PER CAPITA INCOME</th>\n",
       "      <th>HARDSHIP INDEX</th>\n",
       "    </tr>\n",
       "  </thead>\n",
       "  <tbody>\n",
       "    <tr>\n",
       "      <th>0</th>\n",
       "      <td>1.0</td>\n",
       "      <td>Rogers Park</td>\n",
       "      <td>7.7</td>\n",
       "      <td>23.6</td>\n",
       "      <td>8.7</td>\n",
       "      <td>18.2</td>\n",
       "      <td>27.5</td>\n",
       "      <td>23939</td>\n",
       "      <td>39.0</td>\n",
       "    </tr>\n",
       "    <tr>\n",
       "      <th>1</th>\n",
       "      <td>2.0</td>\n",
       "      <td>West Ridge</td>\n",
       "      <td>7.8</td>\n",
       "      <td>17.2</td>\n",
       "      <td>8.8</td>\n",
       "      <td>20.8</td>\n",
       "      <td>38.5</td>\n",
       "      <td>23040</td>\n",
       "      <td>46.0</td>\n",
       "    </tr>\n",
       "    <tr>\n",
       "      <th>2</th>\n",
       "      <td>3.0</td>\n",
       "      <td>Uptown</td>\n",
       "      <td>3.8</td>\n",
       "      <td>24.0</td>\n",
       "      <td>8.9</td>\n",
       "      <td>11.8</td>\n",
       "      <td>22.2</td>\n",
       "      <td>35787</td>\n",
       "      <td>20.0</td>\n",
       "    </tr>\n",
       "    <tr>\n",
       "      <th>3</th>\n",
       "      <td>4.0</td>\n",
       "      <td>Lincoln Square</td>\n",
       "      <td>3.4</td>\n",
       "      <td>10.9</td>\n",
       "      <td>8.2</td>\n",
       "      <td>13.4</td>\n",
       "      <td>25.5</td>\n",
       "      <td>37524</td>\n",
       "      <td>17.0</td>\n",
       "    </tr>\n",
       "    <tr>\n",
       "      <th>4</th>\n",
       "      <td>5.0</td>\n",
       "      <td>North Center</td>\n",
       "      <td>0.3</td>\n",
       "      <td>7.5</td>\n",
       "      <td>5.2</td>\n",
       "      <td>4.5</td>\n",
       "      <td>26.2</td>\n",
       "      <td>57123</td>\n",
       "      <td>6.0</td>\n",
       "    </tr>\n",
       "  </tbody>\n",
       "</table>\n",
       "</div>"
      ],
      "text/plain": [
       "   Community Area Number COMMUNITY AREA NAME  HOUSING  \\\n",
       "0                    1.0         Rogers Park      7.7   \n",
       "1                    2.0          West Ridge      7.8   \n",
       "2                    3.0              Uptown      3.8   \n",
       "3                    4.0      Lincoln Square      3.4   \n",
       "4                    5.0        North Center      0.3   \n",
       "\n",
       "   PERCENT HOUSEHOLDS BELOW POVERTY  UNEMPLOYED  \\\n",
       "0                              23.6         8.7   \n",
       "1                              17.2         8.8   \n",
       "2                              24.0         8.9   \n",
       "3                              10.9         8.2   \n",
       "4                               7.5         5.2   \n",
       "\n",
       "   PERCENT AGED 25+ WITHOUT HIGH SCHOOL DIPLOMA  \\\n",
       "0                                          18.2   \n",
       "1                                          20.8   \n",
       "2                                          11.8   \n",
       "3                                          13.4   \n",
       "4                                           4.5   \n",
       "\n",
       "   PERCENT AGED UNDER 18 OR OVER 64  PER CAPITA INCOME   HARDSHIP INDEX  \n",
       "0                              27.5               23939            39.0  \n",
       "1                              38.5               23040            46.0  \n",
       "2                              22.2               35787            20.0  \n",
       "3                              25.5               37524            17.0  \n",
       "4                              26.2               57123             6.0  "
      ]
     },
     "execution_count": 22,
     "metadata": {},
     "output_type": "execute_result"
    }
   ],
   "source": [
    "df.head(5)\n"
   ]
  },
  {
   "cell_type": "code",
   "execution_count": 27,
   "id": "e3615972",
   "metadata": {},
   "outputs": [
    {
     "data": {
      "text/plain": [
       "3.3     4\n",
       "1.1     4\n",
       "3.8     3\n",
       "1.5     3\n",
       "4.0     3\n",
       "4.1     2\n",
       "4.7     2\n",
       "6.8     2\n",
       "5.8     2\n",
       "3.2     2\n",
       "6.3     2\n",
       "1.3     2\n",
       "3.6     2\n",
       "2.7     2\n",
       "0.8     2\n",
       "11.1    1\n",
       "2.5     1\n",
       "2.9     1\n",
       "2.8     1\n",
       "1.4     1\n",
       "0.9     1\n",
       "2.1     1\n",
       "4.8     1\n",
       "15.8    1\n",
       "7.6     1\n",
       "2.6     1\n",
       "8.5     1\n",
       "14.4    1\n",
       "5.6     1\n",
       "4.5     1\n",
       "11.9    1\n",
       "7.2     1\n",
       "7.7     1\n",
       "2.4     1\n",
       "6.9     1\n",
       "3.4     1\n",
       "0.3     1\n",
       "1.9     1\n",
       "2.0     1\n",
       "3.9     1\n",
       "11.3    1\n",
       "5.2     1\n",
       "8.1     1\n",
       "10.8    1\n",
       "6.0     1\n",
       "1.8     1\n",
       "14.8    1\n",
       "2.3     1\n",
       "9.4     1\n",
       "8.2     1\n",
       "7.4     1\n",
       "15.2    1\n",
       "9.6     1\n",
       "7.8     1\n",
       "5.7     1\n",
       "1.0     1\n",
       "Name: HOUSING, dtype: int64"
      ]
     },
     "execution_count": 27,
     "metadata": {},
     "output_type": "execute_result"
    }
   ],
   "source": [
    "df.HOUSING.value_counts()"
   ]
  },
  {
   "cell_type": "code",
   "execution_count": 28,
   "id": "e8b9a8cf",
   "metadata": {},
   "outputs": [
    {
     "data": {
      "text/plain": [
       "10.0    3\n",
       "8.7     2\n",
       "18.2    2\n",
       "16.7    2\n",
       "15.8    2\n",
       "       ..\n",
       "28.7    1\n",
       "33.9    1\n",
       "8.8     1\n",
       "15.7    1\n",
       "12.9    1\n",
       "Name: UNEMPLOYED, Length: 67, dtype: int64"
      ]
     },
     "execution_count": 28,
     "metadata": {},
     "output_type": "execute_result"
    }
   ],
   "source": [
    "df.UNEMPLOYED.value_counts()"
   ]
  },
  {
   "cell_type": "code",
   "execution_count": 29,
   "id": "2a682f3c",
   "metadata": {},
   "outputs": [],
   "source": [
    "import seaborn as sns\n",
    "import matplotlib.pyplot as plt"
   ]
  },
  {
   "cell_type": "code",
   "execution_count": 34,
   "id": "9a9110ec",
   "metadata": {},
   "outputs": [],
   "source": [
    "%matplotlib inline\n",
    "import scipy\n",
    "import warnings\n",
    "warnings.filterwarnings('ignore')\n"
   ]
  },
  {
   "cell_type": "code",
   "execution_count": 36,
   "id": "a4140c1c",
   "metadata": {},
   "outputs": [
    {
     "data": {
      "text/plain": [
       "<bound method NDFrame.describe of     Community Area Number COMMUNITY AREA NAME  HOUSING  \\\n",
       "0                     1.0         Rogers Park      7.7   \n",
       "1                     2.0          West Ridge      7.8   \n",
       "2                     3.0              Uptown      3.8   \n",
       "3                     4.0      Lincoln Square      3.4   \n",
       "4                     5.0        North Center      0.3   \n",
       "..                    ...                 ...      ...   \n",
       "73                   74.0     Mount Greenwood      1.0   \n",
       "74                   75.0         Morgan Park      0.8   \n",
       "75                   76.0              O'Hare      3.6   \n",
       "76                   77.0           Edgewater      4.1   \n",
       "77                    NaN             CHICAGO      4.7   \n",
       "\n",
       "    PERCENT HOUSEHOLDS BELOW POVERTY  UNEMPLOYED  \\\n",
       "0                               23.6         8.7   \n",
       "1                               17.2         8.8   \n",
       "2                               24.0         8.9   \n",
       "3                               10.9         8.2   \n",
       "4                                7.5         5.2   \n",
       "..                               ...         ...   \n",
       "73                               3.4         8.7   \n",
       "74                              13.2        15.0   \n",
       "75                              15.4         7.1   \n",
       "76                              18.2         9.2   \n",
       "77                              19.7        12.9   \n",
       "\n",
       "    PERCENT AGED 25+ WITHOUT HIGH SCHOOL DIPLOMA  \\\n",
       "0                                           18.2   \n",
       "1                                           20.8   \n",
       "2                                           11.8   \n",
       "3                                           13.4   \n",
       "4                                            4.5   \n",
       "..                                           ...   \n",
       "73                                           4.3   \n",
       "74                                          10.8   \n",
       "75                                          10.9   \n",
       "76                                           9.7   \n",
       "77                                          19.5   \n",
       "\n",
       "    PERCENT AGED UNDER 18 OR OVER 64  PER CAPITA INCOME   HARDSHIP INDEX  \n",
       "0                               27.5               23939            39.0  \n",
       "1                               38.5               23040            46.0  \n",
       "2                               22.2               35787            20.0  \n",
       "3                               25.5               37524            17.0  \n",
       "4                               26.2               57123             6.0  \n",
       "..                               ...                 ...             ...  \n",
       "73                              36.8               34381            16.0  \n",
       "74                              40.3               27149            30.0  \n",
       "75                              30.3               25828            24.0  \n",
       "76                              23.8               33385            19.0  \n",
       "77                              33.5               28202             NaN  \n",
       "\n",
       "[78 rows x 9 columns]>"
      ]
     },
     "execution_count": 36,
     "metadata": {},
     "output_type": "execute_result"
    }
   ],
   "source": [
    "df.describe"
   ]
  },
  {
   "cell_type": "code",
   "execution_count": 37,
   "id": "8f1e0b9a",
   "metadata": {},
   "outputs": [
    {
     "name": "stdout",
     "output_type": "stream",
     "text": [
      "['anagrams', 'anscombe', 'attention', 'brain_networks', 'car_crashes', 'diamonds', 'dots', 'dowjones', 'exercise', 'flights', 'fmri', 'geyser', 'glue', 'healthexp', 'iris', 'mpg', 'penguins', 'planets', 'seaice', 'taxis', 'tips', 'titanic', 'anagrams', 'anagrams', 'anscombe', 'anscombe', 'attention', 'attention', 'brain_networks', 'brain_networks', 'car_crashes', 'car_crashes', 'diamonds', 'diamonds', 'dots', 'dots', 'dowjones', 'dowjones', 'exercise', 'exercise', 'flights', 'flights', 'fmri', 'fmri', 'geyser', 'geyser', 'glue', 'glue', 'healthexp', 'healthexp', 'iris', 'iris', 'mpg', 'mpg', 'penguins', 'penguins', 'planets', 'planets', 'seaice', 'seaice', 'taxis', 'taxis', 'tips', 'tips', 'titanic', 'titanic', 'anagrams', 'anscombe', 'attention', 'brain_networks', 'car_crashes', 'diamonds', 'dots', 'dowjones', 'exercise', 'flights', 'fmri', 'geyser', 'glue', 'healthexp', 'iris', 'mpg', 'penguins', 'planets', 'seaice', 'taxis', 'tips', 'titanic']\n"
     ]
    }
   ],
   "source": [
    "print(sns.get_dataset_names())"
   ]
  },
  {
   "cell_type": "code",
   "execution_count": 38,
   "id": "724fdb13",
   "metadata": {},
   "outputs": [
    {
     "data": {
      "text/plain": [
       "Community Area Number                           float64\n",
       "COMMUNITY AREA NAME                              object\n",
       "HOUSING                                         float64\n",
       "PERCENT HOUSEHOLDS BELOW POVERTY                float64\n",
       "UNEMPLOYED                                      float64\n",
       "PERCENT AGED 25+ WITHOUT HIGH SCHOOL DIPLOMA    float64\n",
       "PERCENT AGED UNDER 18 OR OVER 64                float64\n",
       "PER CAPITA INCOME                                 int64\n",
       "HARDSHIP INDEX                                  float64\n",
       "dtype: object"
      ]
     },
     "execution_count": 38,
     "metadata": {},
     "output_type": "execute_result"
    }
   ],
   "source": [
    "df.dtypes"
   ]
  },
  {
   "cell_type": "code",
   "execution_count": 39,
   "id": "4313d425",
   "metadata": {},
   "outputs": [
    {
     "data": {
      "text/plain": [
       "Community Area Number                           1\n",
       "COMMUNITY AREA NAME                             0\n",
       "HOUSING                                         0\n",
       "PERCENT HOUSEHOLDS BELOW POVERTY                0\n",
       "UNEMPLOYED                                      0\n",
       "PERCENT AGED 25+ WITHOUT HIGH SCHOOL DIPLOMA    0\n",
       "PERCENT AGED UNDER 18 OR OVER 64                0\n",
       "PER CAPITA INCOME                               0\n",
       "HARDSHIP INDEX                                  1\n",
       "dtype: int64"
      ]
     },
     "execution_count": 39,
     "metadata": {},
     "output_type": "execute_result"
    }
   ],
   "source": [
    "df.isnull().sum()\n"
   ]
  },
  {
   "cell_type": "code",
   "execution_count": 40,
   "id": "8978dc53",
   "metadata": {},
   "outputs": [
    {
     "data": {
      "image/png": "[encoded data removed]",
      "text/plain": [
       "<Figure size 432x288 with 1 Axes>"
      ]
     },
     "metadata": {
      "needs_background": "light"
     },
     "output_type": "display_data"
    }
   ],
   "source": [
    "import seaborn as sns\n",
    "sns.histplot(df['HOUSING'])\n",
    "plt.show()"
   ]
  },
  {
   "cell_type": "code",
   "execution_count": 41,
   "id": "126a8f5f",
   "metadata": {},
   "outputs": [
    {
     "data": {
      "image/png": "[encoded data removed]",
      "text/plain": [
       "<Figure size 432x288 with 1 Axes>"
      ]
     },
     "metadata": {
      "needs_background": "light"
     },
     "output_type": "display_data"
    }
   ],
   "source": [
    "import seaborn as sns\n",
    "sns.histplot(df['UNEMPLOYED'])\n",
    "plt.show()"
   ]
  },
  {
   "cell_type": "code",
   "execution_count": 43,
   "id": "ca702a3a",
   "metadata": {},
   "outputs": [
    {
     "data": {
      "image/png": "[encoded data removed]",
      "text/plain": [
       "<Figure size 720x720 with 1 Axes>"
      ]
     },
     "metadata": {
      "needs_background": "light"
     },
     "output_type": "display_data"
    }
   ],
   "source": [
    "plt.figure(figsize=(10,10))\n",
    "plt.scatter(x=df['HOUSING'], y=df['UNEMPLOYED'],  cmap='gist_rainbow')\n",
    "plt.xlabel('HOUSING')\n",
    "plt.ylabel('UNEMPLOYED')\n",
    "plt.show()"
   ]
  },
  {
   "cell_type": "code",
   "execution_count": null,
   "id": "e012e8a1",
   "metadata": {},
   "outputs": [],
   "source": []
  }
 ],
 "metadata": {
  "kernelspec": {
   "display_name": "Python 3 (ipykernel)",
   "language": "python",
   "name": "python3"
  },
  "language_info": {
   "codemirror_mode": {
    "name": "ipython",
    "version": 3
   },
   "file_extension": ".py",
   "mimetype": "text/x-python",
   "name": "python",
   "nbconvert_exporter": "python",
   "pygments_lexer": "ipython3",
   "version": "3.9.7"
  }
 },
 "nbformat": 4,
 "nbformat_minor": 5
}
